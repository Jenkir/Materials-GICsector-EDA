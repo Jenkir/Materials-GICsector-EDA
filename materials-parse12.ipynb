{
 "cells": [
  {
   "cell_type": "code",
   "execution_count": 1,
   "id": "0521a18f",
   "metadata": {},
   "outputs": [],
   "source": [
    "# see https://towardsdatascience.com/how-do-i-extract-nested-data-in-python-4e7bed37566a"
   ]
  },
  {
   "cell_type": "code",
   "execution_count": 2,
   "id": "1e9767b6",
   "metadata": {},
   "outputs": [],
   "source": [
    "import pandas as pd\n",
    "import requests\n",
    "import json\n",
    "from config import api_key\n",
    "from pandas import json_normalize\n",
    "import os"
   ]
  },
  {
   "cell_type": "code",
   "execution_count": 3,
   "id": "ae771d52",
   "metadata": {},
   "outputs": [],
   "source": [
    "# pretty print the JSON\n",
    "from pprint import pprint\n",
    "\n",
    "pd.set_option('display.max_rows', 200)\n",
    "pd.set_option('display.max_columns', 100)\n",
    "# use below code to see full text of the columns; by providing None as the 2nd parameter, \n",
    "# we are setting the max characters allowed before truncation to unlimited\n",
    "pd.set_option(\"display.max_colwidth\", None)"
   ]
  },
  {
   "cell_type": "code",
   "execution_count": 4,
   "id": "a5477ebc",
   "metadata": {},
   "outputs": [
    {
     "data": {
      "text/plain": [
       "'C:\\\\Users\\\\Jenkir\\\\Desktop\\\\cherry-tree-lane-analytics\\\\INDUSTRIES\\\\Materials-GICsector-EDA'"
      ]
     },
     "execution_count": 4,
     "metadata": {},
     "output_type": "execute_result"
    }
   ],
   "source": [
    "os.getcwd()\n"
   ]
  },
  {
   "cell_type": "code",
   "execution_count": 5,
   "id": "57833922",
   "metadata": {},
   "outputs": [
    {
     "data": {
      "text/plain": [
       "'C:\\\\Users\\\\Jenkir\\\\Desktop\\\\cherry-tree-lane-analytics\\\\INDUSTRIES\\\\Materials-GICsector-EDA'"
      ]
     },
     "execution_count": 5,
     "metadata": {},
     "output_type": "execute_result"
    }
   ],
   "source": [
    "os.chdir('C:\\\\Users\\\\Jenkir\\\\Desktop\\\\cherry-tree-lane-analytics\\\\INDUSTRIES\\\\Materials-GICsector-EDA')\n",
    "os.getcwd()"
   ]
  },
  {
   "cell_type": "code",
   "execution_count": 6,
   "id": "f2dc2260",
   "metadata": {},
   "outputs": [
    {
     "ename": "KeyError",
     "evalue": "' failed'",
     "output_type": "error",
     "traceback": [
      "\u001b[1;31m---------------------------------------------------------------------------\u001b[0m",
      "\u001b[1;31mKeyError\u001b[0m                                  Traceback (most recent call last)",
      "\u001b[1;32m<ipython-input-6-76782def8b58>\u001b[0m in \u001b[0;36m<module>\u001b[1;34m\u001b[0m\n\u001b[0;32m     19\u001b[0m         \u001b[0mapi_data\u001b[0m\u001b[1;33m.\u001b[0m\u001b[0mappend\u001b[0m\u001b[1;33m(\u001b[0m\u001b[0mdetails\u001b[0m\u001b[1;33m.\u001b[0m\u001b[0mjson\u001b[0m\u001b[1;33m(\u001b[0m\u001b[1;33m)\u001b[0m\u001b[1;33m)\u001b[0m\u001b[1;33m\u001b[0m\u001b[1;33m\u001b[0m\u001b[0m\n\u001b[0;32m     20\u001b[0m     \u001b[1;32melse\u001b[0m\u001b[1;33m:\u001b[0m\u001b[1;33m\u001b[0m\u001b[1;33m\u001b[0m\u001b[0m\n\u001b[1;32m---> 21\u001b[1;33m         \u001b[0mprint\u001b[0m\u001b[1;33m(\u001b[0m\u001b[1;34m\"Request to { failed}\"\u001b[0m\u001b[1;33m.\u001b[0m\u001b[0mformat\u001b[0m\u001b[1;33m(\u001b[0m\u001b[0mi\u001b[0m\u001b[1;33m)\u001b[0m\u001b[1;33m)\u001b[0m\u001b[1;33m\u001b[0m\u001b[1;33m\u001b[0m\u001b[0m\n\u001b[0m\u001b[0;32m     22\u001b[0m \u001b[1;33m\u001b[0m\u001b[0m\n\u001b[0;32m     23\u001b[0m \u001b[0mpprint\u001b[0m\u001b[1;33m(\u001b[0m\u001b[0mapi_data\u001b[0m\u001b[1;33m)\u001b[0m\u001b[1;33m\u001b[0m\u001b[1;33m\u001b[0m\u001b[0m\n",
      "\u001b[1;31mKeyError\u001b[0m: ' failed'"
     ]
    }
   ],
   "source": [
    "# see https://www.youtube.com/watch?v=r7t71t5993s  for how to add quotes and commas to values in Excel\n",
    "# ids source file: \n",
    "headers = {\n",
    "    \"Api-key\": api_key\n",
    "          }\n",
    "\n",
    "ids = [\"202022\",\n",
    "\"246349\",\n",
    "\"190539\",\n",
    "\"192420\",\n",
    "\"193661\"\n",
    "      ]\n",
    "api_data = []\n",
    "\n",
    "for i in ids:\n",
    "    details = requests.get(\"https://api.esganalytics.io/api/company/details/?company_id={}\".format(i), headers=headers)\n",
    "    \n",
    "    if details.status_code == 200:\n",
    "        api_data.append(details.json())\n",
    "    else:\n",
    "        print(\"Request to { failed}\".format(i))\n",
    "   \n",
    "pprint(api_data)"
   ]
  },
  {
   "cell_type": "code",
   "execution_count": null,
   "id": "8fab4c6b",
   "metadata": {},
   "outputs": [],
   "source": [
    "json_data = json.dumps(api_data)\n",
    "dict_data = json.loads(json_data)\n",
    "pprint(dict_data)"
   ]
  },
  {
   "cell_type": "code",
   "execution_count": null,
   "id": "0b9ef189",
   "metadata": {},
   "outputs": [],
   "source": [
    "print(type(dict_data))\n"
   ]
  },
  {
   "cell_type": "code",
   "execution_count": null,
   "id": "cc1e064a",
   "metadata": {},
   "outputs": [],
   "source": [
    "print(type(api_data))"
   ]
  },
  {
   "cell_type": "code",
   "execution_count": null,
   "id": "fe1495a7",
   "metadata": {},
   "outputs": [],
   "source": [
    "print(len(dict_data))"
   ]
  },
  {
   "cell_type": "code",
   "execution_count": null,
   "id": "dec81927",
   "metadata": {},
   "outputs": [],
   "source": [
    "print(len(api_data))"
   ]
  },
  {
   "cell_type": "code",
   "execution_count": null,
   "id": "188b1129",
   "metadata": {},
   "outputs": [],
   "source": [
    "#pip install flatten_json"
   ]
  },
  {
   "cell_type": "code",
   "execution_count": null,
   "id": "cd69bf62",
   "metadata": {},
   "outputs": [],
   "source": [
    "# see https://github.com/amirziai/flatten\n",
    "#from flatten_json import flatten"
   ]
  },
  {
   "cell_type": "code",
   "execution_count": null,
   "id": "cba9bd8f",
   "metadata": {},
   "outputs": [],
   "source": [
    "#df_flatten = pd.DataFrame([flatten(dict_data)['id']])\n",
    "#df_flatten"
   ]
  },
  {
   "cell_type": "code",
   "execution_count": null,
   "id": "9dfe5067",
   "metadata": {},
   "outputs": [],
   "source": [
    "print(dict_data[0])"
   ]
  },
  {
   "cell_type": "code",
   "execution_count": null,
   "id": "d3f46998",
   "metadata": {},
   "outputs": [],
   "source": [
    "# see https://stackoverflow.com/questions/47242845/pandas-json-normalize-with-very-nested-json\n",
    "\n",
    "\n",
    "df_detail2 = pd.json_normalize(dict_data, 'company_detail')\n",
    "df_detail2"
   ]
  },
  {
   "cell_type": "code",
   "execution_count": null,
   "id": "db3a2a6e",
   "metadata": {},
   "outputs": [],
   "source": [
    "df_detail2.columns"
   ]
  },
  {
   "cell_type": "code",
   "execution_count": null,
   "id": "c3d6804a",
   "metadata": {},
   "outputs": [],
   "source": [
    "# drop unnecessary columns\n",
    "df_detail = df_detail2.drop(columns=['description', 'url', 'pos_neg_ratio', 'esg_beta_tseries'])\n",
    "df_detail"
   ]
  },
  {
   "cell_type": "code",
   "execution_count": null,
   "id": "f6e8b891",
   "metadata": {},
   "outputs": [],
   "source": [
    "# sort by company name & will use later when joining with next df bc there are no common columns; use ignore_index=True to reset index & keep new index while discarding old one\n",
    "df_detail_F = df_detail.sort_values(by=[\"company_name\"],ignore_index=True)\n",
    "df_detail_F "
   ]
  },
  {
   "cell_type": "code",
   "execution_count": null,
   "id": "ea3c6568",
   "metadata": {},
   "outputs": [],
   "source": [
    "df_detail_F.info()"
   ]
  },
  {
   "cell_type": "code",
   "execution_count": null,
   "id": "375b7fce",
   "metadata": {},
   "outputs": [],
   "source": []
  },
  {
   "cell_type": "code",
   "execution_count": null,
   "id": "4f3a714c",
   "metadata": {},
   "outputs": [],
   "source": [
    "df_securities = pd.json_normalize(dict_data, 'securities')\n",
    "df_securities"
   ]
  },
  {
   "cell_type": "code",
   "execution_count": null,
   "id": "4f66b3f7",
   "metadata": {},
   "outputs": [],
   "source": [
    "df_securities[\"exchange\"].value_counts()"
   ]
  },
  {
   "cell_type": "code",
   "execution_count": null,
   "id": "0ab755fb",
   "metadata": {},
   "outputs": [],
   "source": [
    "exchanges = ['New York Stock Exchange', \"NASDAQ Exchnage\"]\n",
    "\n",
    "mask = df_securities['exchange'].isin\n",
    "df_securities_US = df_securities.loc[df_securities['currency_code'] == \"USD\"]\n",
    "df_securities_US.head(10)"
   ]
  },
  {
   "cell_type": "code",
   "execution_count": null,
   "id": "9260f904",
   "metadata": {},
   "outputs": [],
   "source": [
    "# select any duplicate rows \n",
    "dupes = df_securities_US[df_securities_US.duplicated(\"code\")]\n",
    "dupes\n"
   ]
  },
  {
   "cell_type": "code",
   "execution_count": null,
   "id": "26fba170",
   "metadata": {},
   "outputs": [],
   "source": [
    "# drop duplicate rows\n",
    "securities_final2= df_securities_US.drop_duplicates(\"code\")\n",
    "securities_final2"
   ]
  },
  {
   "cell_type": "code",
   "execution_count": null,
   "id": "bc6a37bf",
   "metadata": {},
   "outputs": [],
   "source": [
    "securities_final = securities_final2.sort_values(by=[\"code\"], ignore_index=True)\n",
    "securities_final"
   ]
  },
  {
   "cell_type": "code",
   "execution_count": null,
   "id": "fca6bdc4",
   "metadata": {},
   "outputs": [],
   "source": [
    "# merge the df that has company details with the df that has securities info; see https://www.statology.org/pandas-merge-on-index/\n",
    "\n",
    "df_merged = pd.merge(df_detail_F, securities_final, left_index=True, right_index=True)\n",
    "df_merged"
   ]
  },
  {
   "cell_type": "code",
   "execution_count": null,
   "id": "0c4327ae",
   "metadata": {},
   "outputs": [],
   "source": [
    "df_merged[[\"street_address\", \"City\", \"State\", \"Country\", \"zip\"]] = df_merged[\"address\"].str.split(\",\", expand=True)\n",
    "df_merged"
   ]
  },
  {
   "cell_type": "code",
   "execution_count": null,
   "id": "e6e13be4",
   "metadata": {},
   "outputs": [],
   "source": [
    "df_merged.columns"
   ]
  },
  {
   "cell_type": "code",
   "execution_count": null,
   "id": "ad68d70a",
   "metadata": {},
   "outputs": [],
   "source": [
    "df_merged_temp = df_merged.rename(columns={'code': \"symbol\",\n",
    "                                           'id': 'unique_id'\n",
    "                                        })\n",
    "df_merged_temp"
   ]
  },
  {
   "cell_type": "code",
   "execution_count": null,
   "id": "55b1922d",
   "metadata": {},
   "outputs": [],
   "source": [
    "df_merged_temp.columns"
   ]
  },
  {
   "cell_type": "code",
   "execution_count": null,
   "id": "206fa593",
   "metadata": {},
   "outputs": [],
   "source": [
    "# reorder the columns so that they match other datasets\n",
    "df_details_secur = df_merged_temp[['unique_id', 'company_name', 'gicSector', 'gicSubIndustry','company_pulse', \n",
    "        'esg_beta', 'City', 'State', 'Country','zip','exchange', 'symbol', 'isin',\n",
    "       'cusip', 'securities_type', 'currency_code']]\n",
    "\n",
    "df_details_secur"
   ]
  },
  {
   "cell_type": "code",
   "execution_count": null,
   "id": "13522236",
   "metadata": {},
   "outputs": [],
   "source": [
    "df_details_secur.dtypes"
   ]
  },
  {
   "cell_type": "code",
   "execution_count": null,
   "id": "0a91df12",
   "metadata": {},
   "outputs": [],
   "source": [
    "convert = {\"unique_id\": str\n",
    "          }\n",
    "df_final = df_details_secur.astype(convert)\n",
    "df_final.info()"
   ]
  },
  {
   "cell_type": "code",
   "execution_count": null,
   "id": "b2a6fca4",
   "metadata": {},
   "outputs": [],
   "source": [
    "# Check to see how many unique company names there are in our results\n",
    "df_final.company_name.nunique(dropna=True)"
   ]
  },
  {
   "cell_type": "code",
   "execution_count": null,
   "id": "b90868d9",
   "metadata": {},
   "outputs": [],
   "source": [
    "# Export file as a CSV, without the Pandas index, but with the header\n",
    "df_final.to_csv(\"materials12.csv\", index = False, header=True)"
   ]
  },
  {
   "cell_type": "code",
   "execution_count": null,
   "id": "bca2806b",
   "metadata": {},
   "outputs": [],
   "source": []
  },
  {
   "cell_type": "code",
   "execution_count": null,
   "id": "1e2efdf3",
   "metadata": {},
   "outputs": [],
   "source": []
  },
  {
   "cell_type": "code",
   "execution_count": null,
   "id": "1f8ec0aa",
   "metadata": {},
   "outputs": [],
   "source": []
  }
 ],
 "metadata": {
  "kernelspec": {
   "display_name": "py39USE",
   "language": "python",
   "name": "py39use"
  },
  "language_info": {
   "codemirror_mode": {
    "name": "ipython",
    "version": 3
   },
   "file_extension": ".py",
   "mimetype": "text/x-python",
   "name": "python",
   "nbconvert_exporter": "python",
   "pygments_lexer": "ipython3",
   "version": "3.9.18"
  }
 },
 "nbformat": 4,
 "nbformat_minor": 5
}
