{
 "cells": [
  {
   "cell_type": "code",
   "execution_count": 1,
   "id": "025a0010",
   "metadata": {},
   "outputs": [],
   "source": [
    "# see https://python.plainenglish.io/data-storytelling-5-simple-tips-with-python-plotly-to-spice-up-your-data-00865549f2b7"
   ]
  },
  {
   "cell_type": "code",
   "execution_count": null,
   "id": "5863dc02",
   "metadata": {},
   "outputs": [],
   "source": [
    "# Thanks to Andrea D'Agostino for his helpful Medium article: https://towardsdatascience.com/exploratory-data-analysis-in-python-a-step-by-step-process-d0dfa6bf94ee  "
   ]
  },
  {
   "cell_type": "code",
   "execution_count": 1,
   "id": "cc74475d",
   "metadata": {},
   "outputs": [
    {
     "name": "stderr",
     "output_type": "stream",
     "text": [
      "<ipython-input-1-813d3e73e556>:4: DeprecationWarning: \n",
      "Pyarrow will become a required dependency of pandas in the next major release of pandas (pandas 3.0),\n",
      "(to allow more performant data types, such as the Arrow string type, and better interoperability with other libraries)\n",
      "but was not found to be installed on your system.\n",
      "If this would cause problems for you,\n",
      "please provide us feedback at https://github.com/pandas-dev/pandas/issues/54466\n",
      "        \n",
      "  import pandas as pd\n"
     ]
    }
   ],
   "source": [
    "# libraries for Exploratory Data Analysis (EDA)\n",
    "\n",
    "# data manipulation\n",
    "import pandas as pd\n",
    "import numpy as np\n",
    "\n",
    "# data viz\n",
    "import plotly.express as px\n",
    "import seaborn as sns\n",
    "import matplotlib.pyplot as plt\n",
    "from matplotlib import rcParams\n",
    "\n",
    "# apply styling\n",
    "plt.style.use(\"ggplot\")\n",
    "rcParams['figure.figsize'] = (12,6)\n",
    "\n",
    "\n",
    "import requests\n",
    "import json\n",
    "from pandas import json_normalize\n",
    "from pprint import pprint\n"
   ]
  },
  {
   "cell_type": "code",
   "execution_count": 4,
   "id": "5c68b02c",
   "metadata": {},
   "outputs": [],
   "source": [
    "#pip install pandas"
   ]
  },
  {
   "cell_type": "code",
   "execution_count": 5,
   "id": "12163968",
   "metadata": {},
   "outputs": [],
   "source": [
    "#pip install seaborn\n"
   ]
  },
  {
   "cell_type": "code",
   "execution_count": 10,
   "id": "a14062b4",
   "metadata": {},
   "outputs": [
    {
     "name": "stdout",
     "output_type": "stream",
     "text": [
      "Collecting geopandas\n",
      "  Downloading geopandas-0.14.2-py3-none-any.whl (1.1 MB)\n",
      "     ---------------------------------------- 1.1/1.1 MB 4.4 MB/s eta 0:00:00\n",
      "Collecting fiona>=1.8.21\n",
      "  Downloading fiona-1.9.5-cp39-cp39-win_amd64.whl (22.9 MB)\n",
      "     --------------------------------------- 22.9/22.9 MB 10.7 MB/s eta 0:00:00\n",
      "Requirement already satisfied: packaging in c:\\users\\jenkir\\anaconda3\\envs\\py39use\\lib\\site-packages (from geopandas) (23.2)\n",
      "Collecting pyproj>=3.3.0\n",
      "  Downloading pyproj-3.6.1-cp39-cp39-win_amd64.whl (6.1 MB)\n",
      "     ---------------------------------------- 6.1/6.1 MB 12.6 MB/s eta 0:00:00\n",
      "Requirement already satisfied: pandas>=1.4.0 in c:\\users\\jenkir\\anaconda3\\envs\\py39use\\lib\\site-packages (from geopandas) (2.2.0)\n",
      "Collecting shapely>=1.8.0\n",
      "  Downloading shapely-2.0.2-cp39-cp39-win_amd64.whl (1.4 MB)\n",
      "     ---------------------------------------- 1.4/1.4 MB 11.4 MB/s eta 0:00:00\n",
      "Requirement already satisfied: importlib-metadata in c:\\users\\jenkir\\appdata\\roaming\\python\\python39\\site-packages (from fiona>=1.8.21->geopandas) (5.0.0)\n",
      "Collecting click~=8.0\n",
      "  Downloading click-8.1.7-py3-none-any.whl (97 kB)\n",
      "     ---------------------------------------- 97.9/97.9 kB 5.8 MB/s eta 0:00:00\n",
      "Requirement already satisfied: setuptools in c:\\users\\jenkir\\anaconda3\\envs\\py39use\\lib\\site-packages (from fiona>=1.8.21->geopandas) (69.0.3)\n",
      "Collecting cligj>=0.5\n",
      "  Using cached cligj-0.7.2-py3-none-any.whl (7.1 kB)\n",
      "Collecting click-plugins>=1.0\n",
      "  Using cached click_plugins-1.1.1-py2.py3-none-any.whl (7.5 kB)\n",
      "Requirement already satisfied: attrs>=19.2.0 in c:\\users\\jenkir\\appdata\\roaming\\python\\python39\\site-packages (from fiona>=1.8.21->geopandas) (22.1.0)\n",
      "Requirement already satisfied: six in c:\\users\\jenkir\\anaconda3\\envs\\py39use\\lib\\site-packages (from fiona>=1.8.21->geopandas) (1.16.0)\n",
      "Requirement already satisfied: certifi in c:\\users\\jenkir\\anaconda3\\envs\\py39use\\lib\\site-packages (from fiona>=1.8.21->geopandas) (2023.11.17)\n",
      "Requirement already satisfied: tzdata>=2022.7 in c:\\users\\jenkir\\anaconda3\\envs\\py39use\\lib\\site-packages (from pandas>=1.4.0->geopandas) (2023.4)\n",
      "Requirement already satisfied: numpy<2,>=1.22.4 in c:\\users\\jenkir\\anaconda3\\envs\\py39use\\lib\\site-packages (from pandas>=1.4.0->geopandas) (1.26.3)\n",
      "Requirement already satisfied: python-dateutil>=2.8.2 in c:\\users\\jenkir\\anaconda3\\envs\\py39use\\lib\\site-packages (from pandas>=1.4.0->geopandas) (2.8.2)\n",
      "Requirement already satisfied: pytz>=2020.1 in c:\\users\\jenkir\\anaconda3\\envs\\py39use\\lib\\site-packages (from pandas>=1.4.0->geopandas) (2023.3.post1)\n",
      "Requirement already satisfied: colorama in c:\\users\\jenkir\\anaconda3\\envs\\py39use\\lib\\site-packages (from click~=8.0->fiona>=1.8.21->geopandas) (0.4.6)\n",
      "Requirement already satisfied: zipp>=0.5 in c:\\users\\jenkir\\appdata\\roaming\\python\\python39\\site-packages (from importlib-metadata->fiona>=1.8.21->geopandas) (3.9.0)\n",
      "Installing collected packages: shapely, pyproj, click, cligj, click-plugins, fiona, geopandas\n",
      "Successfully installed click-8.1.7 click-plugins-1.1.1 cligj-0.7.2 fiona-1.9.5 geopandas-0.14.2 pyproj-3.6.1 shapely-2.0.2\n",
      "Note: you may need to restart the kernel to use updated packages.\n"
     ]
    },
    {
     "name": "stderr",
     "output_type": "stream",
     "text": [
      "  WARNING: The script pyproj.exe is installed in 'C:\\Users\\Jenkir\\anaconda3\\envs\\py39USE\\Scripts' which is not on PATH.\n",
      "  Consider adding this directory to PATH or, if you prefer to suppress this warning, use --no-warn-script-location.\n",
      "  WARNING: The script fio.exe is installed in 'C:\\Users\\Jenkir\\anaconda3\\envs\\py39USE\\Scripts' which is not on PATH.\n",
      "  Consider adding this directory to PATH or, if you prefer to suppress this warning, use --no-warn-script-location.\n",
      "\n",
      "[notice] A new release of pip available: 22.2.2 -> 23.3.2\n",
      "[notice] To update, run: C:\\Users\\Jenkir\\anaconda3\\envs\\py39USE\\python.exe -m pip install --upgrade pip\n"
     ]
    }
   ],
   "source": [
    "#pip install geopandas"
   ]
  },
  {
   "cell_type": "code",
   "execution_count": 6,
   "id": "2789d9b5",
   "metadata": {},
   "outputs": [],
   "source": [
    "#pip install plotly.express"
   ]
  },
  {
   "cell_type": "code",
   "execution_count": 8,
   "id": "dcec52bb",
   "metadata": {},
   "outputs": [
    {
     "data": {
      "text/plain": [
       "'C:\\\\Users\\\\Jenkir\\\\Desktop\\\\cherry-tree-lane-analytics\\\\PROJECTS\\\\PRACTICE'"
      ]
     },
     "execution_count": 8,
     "metadata": {},
     "output_type": "execute_result"
    }
   ],
   "source": [
    "import os\n",
    "os.getcwd()"
   ]
  },
  {
   "cell_type": "code",
   "execution_count": 10,
   "id": "a749dc2b",
   "metadata": {},
   "outputs": [
    {
     "data": {
      "text/plain": [
       "'C:\\\\Users\\\\Jenkir\\\\Desktop\\\\cherry-tree-lane-analytics\\\\INDUSTRIES'"
      ]
     },
     "execution_count": 10,
     "metadata": {},
     "output_type": "execute_result"
    }
   ],
   "source": [
    "os.chdir('C:\\\\Users\\\\Jenkir\\\\Desktop\\\\cherry-tree-lane-analytics\\\\INDUSTRIES')\n",
    "os.getcwd()"
   ]
  },
  {
   "cell_type": "code",
   "execution_count": 11,
   "id": "e049aae8",
   "metadata": {},
   "outputs": [
    {
     "data": {
      "text/html": [
       "<div>\n",
       "<style scoped>\n",
       "    .dataframe tbody tr th:only-of-type {\n",
       "        vertical-align: middle;\n",
       "    }\n",
       "\n",
       "    .dataframe tbody tr th {\n",
       "        vertical-align: top;\n",
       "    }\n",
       "\n",
       "    .dataframe thead th {\n",
       "        text-align: right;\n",
       "    }\n",
       "</style>\n",
       "<table border=\"1\" class=\"dataframe\">\n",
       "  <thead>\n",
       "    <tr style=\"text-align: right;\">\n",
       "      <th></th>\n",
       "      <th>unique_id</th>\n",
       "      <th>company_name</th>\n",
       "      <th>gicSector</th>\n",
       "      <th>gicSubIndustry</th>\n",
       "      <th>gicIndustry</th>\n",
       "      <th>company_pulse</th>\n",
       "    </tr>\n",
       "  </thead>\n",
       "  <tbody>\n",
       "    <tr>\n",
       "      <th>0</th>\n",
       "      <td>195610</td>\n",
       "      <td>AMG Advanced Metallurgical Group N.V</td>\n",
       "      <td>Materials</td>\n",
       "      <td>Diversified Metals &amp; Mining</td>\n",
       "      <td>Metals &amp; Mining</td>\n",
       "      <td>0.334243</td>\n",
       "    </tr>\n",
       "    <tr>\n",
       "      <th>1</th>\n",
       "      <td>195583</td>\n",
       "      <td>Acerinox, S.A</td>\n",
       "      <td>Materials</td>\n",
       "      <td>Steel</td>\n",
       "      <td>Metals &amp; Mining</td>\n",
       "      <td>0.180600</td>\n",
       "    </tr>\n",
       "    <tr>\n",
       "      <th>2</th>\n",
       "      <td>206683</td>\n",
       "      <td>AdvanSix Inc</td>\n",
       "      <td>Materials</td>\n",
       "      <td>Commodity Chemicals</td>\n",
       "      <td>Chemicals</td>\n",
       "      <td>0.597531</td>\n",
       "    </tr>\n",
       "    <tr>\n",
       "      <th>3</th>\n",
       "      <td>244892</td>\n",
       "      <td>Advanced Emissions Solutions Inc</td>\n",
       "      <td>Materials</td>\n",
       "      <td>Specialty Chemicals</td>\n",
       "      <td>Chemicals</td>\n",
       "      <td>0.631753</td>\n",
       "    </tr>\n",
       "    <tr>\n",
       "      <th>4</th>\n",
       "      <td>191126</td>\n",
       "      <td>Agnico Eagle Mines Limited</td>\n",
       "      <td>Materials</td>\n",
       "      <td>Gold</td>\n",
       "      <td>Metals &amp; Mining</td>\n",
       "      <td>0.330268</td>\n",
       "    </tr>\n",
       "  </tbody>\n",
       "</table>\n",
       "</div>"
      ],
      "text/plain": [
       "   unique_id                          company_name  gicSector  \\\n",
       "0     195610  AMG Advanced Metallurgical Group N.V  Materials   \n",
       "1     195583                         Acerinox, S.A  Materials   \n",
       "2     206683                          AdvanSix Inc  Materials   \n",
       "3     244892      Advanced Emissions Solutions Inc  Materials   \n",
       "4     191126            Agnico Eagle Mines Limited  Materials   \n",
       "\n",
       "                gicSubIndustry      gicIndustry  company_pulse  \n",
       "0  Diversified Metals & Mining  Metals & Mining       0.334243  \n",
       "1                        Steel  Metals & Mining       0.180600  \n",
       "2          Commodity Chemicals        Chemicals       0.597531  \n",
       "3          Specialty Chemicals        Chemicals       0.631753  \n",
       "4                         Gold  Metals & Mining       0.330268  "
      ]
     },
     "execution_count": 11,
     "metadata": {},
     "output_type": "execute_result"
    }
   ],
   "source": [
    "# Step 1: Import dataset using read_csv\n",
    "# The data analysis pipeline begins with the import or creation of a working dataset\n",
    "# The exploratory analysis phase begins immediately after\n",
    "\n",
    "# got error until I added    encoding=\"ISO-8859-1\"\n",
    "df = pd.read_csv(\"./industry_csvs/materials_sector.csv\", encoding=\"ISO-8859-1\")\n",
    "df.head()\n"
   ]
  },
  {
   "cell_type": "markdown",
   "id": "ce72bf23",
   "metadata": {},
   "source": [
    "### Understand the big picture of the data"
   ]
  },
  {
   "cell_type": "code",
   "execution_count": 12,
   "id": "721ecc80",
   "metadata": {},
   "outputs": [
    {
     "data": {
      "text/plain": [
       "(334, 6)"
      ]
     },
     "execution_count": 12,
     "metadata": {},
     "output_type": "execute_result"
    }
   ],
   "source": [
    "# Use .shape to see the # of rows (the first # below) and the # of columns (the second # below) of the dataset.\n",
    "df.shape"
   ]
  },
  {
   "cell_type": "code",
   "execution_count": 14,
   "id": "403e4d68",
   "metadata": {},
   "outputs": [
    {
     "name": "stdout",
     "output_type": "stream",
     "text": [
      "<class 'pandas.core.frame.DataFrame'>\n",
      "RangeIndex: 334 entries, 0 to 333\n",
      "Data columns (total 6 columns):\n",
      " #   Column          Non-Null Count  Dtype  \n",
      "---  ------          --------------  -----  \n",
      " 0   unique_id       334 non-null    int64  \n",
      " 1   company_name    334 non-null    object \n",
      " 2   gicSector       334 non-null    object \n",
      " 3   gicSubIndustry  331 non-null    object \n",
      " 4   gicIndustry     334 non-null    object \n",
      " 5   company_pulse   334 non-null    float64\n",
      "dtypes: float64(1), int64(1), object(4)\n",
      "memory usage: 15.8+ KB\n"
     ]
    }
   ],
   "source": [
    "df.info()"
   ]
  },
  {
   "cell_type": "code",
   "execution_count": 15,
   "id": "e94f6f2e",
   "metadata": {},
   "outputs": [
    {
     "name": "stdout",
     "output_type": "stream",
     "text": [
      "<class 'pandas.core.frame.DataFrame'>\n",
      "RangeIndex: 334 entries, 0 to 333\n",
      "Data columns (total 6 columns):\n",
      " #   Column          Non-Null Count  Dtype  \n",
      "---  ------          --------------  -----  \n",
      " 0   unique_id       334 non-null    object \n",
      " 1   company_name    334 non-null    object \n",
      " 2   gicSector       334 non-null    object \n",
      " 3   gicSubIndustry  331 non-null    object \n",
      " 4   gicIndustry     334 non-null    object \n",
      " 5   company_pulse   334 non-null    float64\n",
      "dtypes: float64(1), object(5)\n",
      "memory usage: 15.8+ KB\n"
     ]
    }
   ],
   "source": [
    "# We want to change the unique_id field to text (\"str\" or \"object\") because we don't want them to show up in any calculations later on\n",
    "# change some of the datatypes from int to string\n",
    "convert = {\"unique_id\": str,\n",
    "        \n",
    "          }\n",
    "df = df.astype(convert)\n",
    "df.info()"
   ]
  },
  {
   "cell_type": "code",
   "execution_count": 16,
   "id": "39f20ce2",
   "metadata": {},
   "outputs": [
    {
     "data": {
      "text/html": [
       "<div>\n",
       "<style scoped>\n",
       "    .dataframe tbody tr th:only-of-type {\n",
       "        vertical-align: middle;\n",
       "    }\n",
       "\n",
       "    .dataframe tbody tr th {\n",
       "        vertical-align: top;\n",
       "    }\n",
       "\n",
       "    .dataframe thead th {\n",
       "        text-align: right;\n",
       "    }\n",
       "</style>\n",
       "<table border=\"1\" class=\"dataframe\">\n",
       "  <thead>\n",
       "    <tr style=\"text-align: right;\">\n",
       "      <th></th>\n",
       "      <th>company_pulse</th>\n",
       "    </tr>\n",
       "  </thead>\n",
       "  <tbody>\n",
       "    <tr>\n",
       "      <th>count</th>\n",
       "      <td>334.000000</td>\n",
       "    </tr>\n",
       "    <tr>\n",
       "      <th>mean</th>\n",
       "      <td>0.199630</td>\n",
       "    </tr>\n",
       "    <tr>\n",
       "      <th>std</th>\n",
       "      <td>0.324016</td>\n",
       "    </tr>\n",
       "    <tr>\n",
       "      <th>min</th>\n",
       "      <td>-0.905705</td>\n",
       "    </tr>\n",
       "    <tr>\n",
       "      <th>25%</th>\n",
       "      <td>0.000000</td>\n",
       "    </tr>\n",
       "    <tr>\n",
       "      <th>50%</th>\n",
       "      <td>0.214871</td>\n",
       "    </tr>\n",
       "    <tr>\n",
       "      <th>75%</th>\n",
       "      <td>0.391066</td>\n",
       "    </tr>\n",
       "    <tr>\n",
       "      <th>max</th>\n",
       "      <td>0.956500</td>\n",
       "    </tr>\n",
       "  </tbody>\n",
       "</table>\n",
       "</div>"
      ],
      "text/plain": [
       "       company_pulse\n",
       "count     334.000000\n",
       "mean        0.199630\n",
       "std         0.324016\n",
       "min        -0.905705\n",
       "25%         0.000000\n",
       "50%         0.214871\n",
       "75%         0.391066\n",
       "max         0.956500"
      ]
     },
     "execution_count": 16,
     "metadata": {},
     "output_type": "execute_result"
    }
   ],
   "source": [
    "# Use the .describe function to see descriptive information about the dataset including statistics for numerical variables/ fields\n",
    "df.describe()"
   ]
  },
  {
   "cell_type": "code",
   "execution_count": 17,
   "id": "c1037f89",
   "metadata": {},
   "outputs": [
    {
     "data": {
      "text/plain": [
       "0"
      ]
     },
     "execution_count": 17,
     "metadata": {},
     "output_type": "execute_result"
    }
   ],
   "source": [
    "# Make sure that the data is properly prepped/ cleaned and ready for analysis\n",
    "# First, check to see if there are any duplicate rows\n",
    "# If the output is 0, that's good news because it means that we don't have any duplicates\n",
    "df.duplicated().sum()"
   ]
  },
  {
   "cell_type": "code",
   "execution_count": 18,
   "id": "6512eb39",
   "metadata": {},
   "outputs": [
    {
     "data": {
      "text/plain": [
       "Index(['unique_id', 'company_name', 'gicSector', 'gicSubIndustry',\n",
       "       'gicIndustry', 'company_pulse'],\n",
       "      dtype='object')"
      ]
     },
     "execution_count": 18,
     "metadata": {},
     "output_type": "execute_result"
    }
   ],
   "source": [
    "# Check whether we need to rename any of the columns to make them more understandable or to fix typos\n",
    "df.columns"
   ]
  },
  {
   "cell_type": "code",
   "execution_count": 21,
   "id": "e4eae03e",
   "metadata": {},
   "outputs": [
    {
     "data": {
      "text/html": [
       "<div>\n",
       "<style scoped>\n",
       "    .dataframe tbody tr th:only-of-type {\n",
       "        vertical-align: middle;\n",
       "    }\n",
       "\n",
       "    .dataframe tbody tr th {\n",
       "        vertical-align: top;\n",
       "    }\n",
       "\n",
       "    .dataframe thead th {\n",
       "        text-align: right;\n",
       "    }\n",
       "</style>\n",
       "<table border=\"1\" class=\"dataframe\">\n",
       "  <thead>\n",
       "    <tr style=\"text-align: right;\">\n",
       "      <th></th>\n",
       "      <th>unique_id</th>\n",
       "      <th>company_name</th>\n",
       "      <th>GIC_Sector</th>\n",
       "      <th>GIC_SubIndustry</th>\n",
       "      <th>GIC_Industry</th>\n",
       "      <th>company_pulse</th>\n",
       "    </tr>\n",
       "  </thead>\n",
       "  <tbody>\n",
       "    <tr>\n",
       "      <th>0</th>\n",
       "      <td>195610</td>\n",
       "      <td>AMG Advanced Metallurgical Group N.V</td>\n",
       "      <td>Materials</td>\n",
       "      <td>Diversified Metals &amp; Mining</td>\n",
       "      <td>Metals &amp; Mining</td>\n",
       "      <td>0.334243</td>\n",
       "    </tr>\n",
       "    <tr>\n",
       "      <th>1</th>\n",
       "      <td>195583</td>\n",
       "      <td>Acerinox, S.A</td>\n",
       "      <td>Materials</td>\n",
       "      <td>Steel</td>\n",
       "      <td>Metals &amp; Mining</td>\n",
       "      <td>0.180600</td>\n",
       "    </tr>\n",
       "    <tr>\n",
       "      <th>2</th>\n",
       "      <td>206683</td>\n",
       "      <td>AdvanSix Inc</td>\n",
       "      <td>Materials</td>\n",
       "      <td>Commodity Chemicals</td>\n",
       "      <td>Chemicals</td>\n",
       "      <td>0.597531</td>\n",
       "    </tr>\n",
       "    <tr>\n",
       "      <th>3</th>\n",
       "      <td>244892</td>\n",
       "      <td>Advanced Emissions Solutions Inc</td>\n",
       "      <td>Materials</td>\n",
       "      <td>Specialty Chemicals</td>\n",
       "      <td>Chemicals</td>\n",
       "      <td>0.631753</td>\n",
       "    </tr>\n",
       "    <tr>\n",
       "      <th>4</th>\n",
       "      <td>191126</td>\n",
       "      <td>Agnico Eagle Mines Limited</td>\n",
       "      <td>Materials</td>\n",
       "      <td>Gold</td>\n",
       "      <td>Metals &amp; Mining</td>\n",
       "      <td>0.330268</td>\n",
       "    </tr>\n",
       "  </tbody>\n",
       "</table>\n",
       "</div>"
      ],
      "text/plain": [
       "  unique_id                          company_name GIC_Sector  \\\n",
       "0    195610  AMG Advanced Metallurgical Group N.V  Materials   \n",
       "1    195583                         Acerinox, S.A  Materials   \n",
       "2    206683                          AdvanSix Inc  Materials   \n",
       "3    244892      Advanced Emissions Solutions Inc  Materials   \n",
       "4    191126            Agnico Eagle Mines Limited  Materials   \n",
       "\n",
       "               GIC_SubIndustry     GIC_Industry  company_pulse  \n",
       "0  Diversified Metals & Mining  Metals & Mining       0.334243  \n",
       "1                        Steel  Metals & Mining       0.180600  \n",
       "2          Commodity Chemicals        Chemicals       0.597531  \n",
       "3          Specialty Chemicals        Chemicals       0.631753  \n",
       "4                         Gold  Metals & Mining       0.330268  "
      ]
     },
     "execution_count": 21,
     "metadata": {},
     "output_type": "execute_result"
    }
   ],
   "source": [
    "# We'll just change the names of three columns for now\n",
    "# Using inplace = True means that the original dataframe will be modified permanently; \n",
    "# be careful when using inplace=True; for more info., see  https://towardsdatascience.com/a-simple-guide-to-inplace-operations-in-pandas-7a1d97ecce24\n",
    "df1 = df.rename(columns = {\"gicSector\": \"GIC_Sector\",\n",
    "                    \"gicSubIndustry\": \"GIC_SubIndustry\",\n",
    "                    \"gicIndustry\": \"GIC_Industry\"      \n",
    "                          })\n",
    "                   \n",
    "df1.head()"
   ]
  },
  {
   "cell_type": "markdown",
   "id": "7b23c343",
   "metadata": {},
   "source": [
    "### Univariate analysis/ understand the variables"
   ]
  },
  {
   "cell_type": "code",
   "execution_count": 37,
   "id": "54cca872",
   "metadata": {},
   "outputs": [
    {
     "data": {
      "text/plain": [
       "GIC_SubIndustry\n",
       "Specialty Chemicals                     52\n",
       "Steel                                   51\n",
       "Commodity Chemicals                     33\n",
       "Diversified Metals & Mining             29\n",
       "Construction Materials                  29\n",
       "Fertilizers & Agricultural Chemicals    22\n",
       "Gold                                    21\n",
       "Paper Products                          18\n",
       "Diversified Chemicals                   14\n",
       "Paper Packaging                         14\n",
       "Metal & Glass Containers                13\n",
       "Aluminum                                 9\n",
       "Copper                                   8\n",
       "Forest Products                          6\n",
       "Silver                                   4\n",
       "Precious Metals & Minerals               4\n",
       "Industrial Gases                         3\n",
       "Health Care Equipment                    1\n",
       "Name: count, dtype: int64"
      ]
     },
     "execution_count": 37,
     "metadata": {},
     "output_type": "execute_result"
    }
   ],
   "source": [
    "# Use .value_counts() to see how many companies are in each GIC SubIndustry;\n",
    "# For example, you can see below that 52 companies are in the \"Specialty Chemicals\" subindustry \n",
    "# while only one company is in \"Health Care Equipment.\"\n",
    "df1.GIC_SubIndustry.value_counts()"
   ]
  },
  {
   "cell_type": "code",
   "execution_count": 38,
   "id": "4b5cd431",
   "metadata": {},
   "outputs": [
    {
     "data": {
      "text/plain": [
       "GIC_SubIndustry\n",
       "Specialty Chemicals                     0.157100\n",
       "Steel                                   0.154079\n",
       "Commodity Chemicals                     0.099698\n",
       "Diversified Metals & Mining             0.087613\n",
       "Construction Materials                  0.087613\n",
       "Fertilizers & Agricultural Chemicals    0.066465\n",
       "Gold                                    0.063444\n",
       "Paper Products                          0.054381\n",
       "Diversified Chemicals                   0.042296\n",
       "Paper Packaging                         0.042296\n",
       "Metal & Glass Containers                0.039275\n",
       "Aluminum                                0.027190\n",
       "Copper                                  0.024169\n",
       "Forest Products                         0.018127\n",
       "Silver                                  0.012085\n",
       "Precious Metals & Minerals              0.012085\n",
       "Industrial Gases                        0.009063\n",
       "Health Care Equipment                   0.003021\n",
       "Name: proportion, dtype: float64"
      ]
     },
     "execution_count": 38,
     "metadata": {},
     "output_type": "execute_result"
    }
   ],
   "source": [
    "# use normalize=True to see percentages\n",
    "df1.GIC_SubIndustry.value_counts(normalize=True)"
   ]
  },
  {
   "cell_type": "code",
   "execution_count": 26,
   "id": "2caa1d70",
   "metadata": {},
   "outputs": [
    {
     "name": "stdout",
     "output_type": "stream",
     "text": [
      "Skewness: -0.4974364761022389\n",
      "kurtosis: 1.1190510830705693\n"
     ]
    }
   ],
   "source": [
    "#  evaluate distribution kurtosis and asymmetry/ skewness\n",
    "# kurtosis is a statistical measure that indicates how much data is in the \"tails\" (furthest from the mean of the data) of normally distributed data \n",
    "# \"Skewness is demonstrated on a bell curve when data points are not distributed symmetrically to the left and right sides of the median on a bell curve...\n",
    "# \"Skewness can be quantified as a representation of the extent to which a given distribution varies from a normal distribution.\" \n",
    "# Skewness is used along with kurtosis to better judge the likelihood of data falling in the tails of a probability distribution\n",
    "# - Investopedia\n",
    "print(f\"Skewness: {df1['company_pulse'].skew()}\")\n",
    "print(f\"kurtosis: {df1['company_pulse'].kurt()}\")"
   ]
  },
  {
   "cell_type": "code",
   "execution_count": 27,
   "id": "6d11ff78",
   "metadata": {},
   "outputs": [
    {
     "data": {
      "image/png": "[encoded data removed]",
      "text/plain": [
       "<Figure size 432x288 with 1 Axes>"
      ]
     },
     "metadata": {
      "needs_background": "light"
     },
     "output_type": "display_data"
    }
   ],
   "source": [
    "# Plot a simple horizontal bar chart of categorical data using matplotlib (be sure you have imported the matplotlib library as plt)\n",
    "df1.GIC_SubIndustry.value_counts().plot(kind=\"barh\")\n",
    "plt.title(\"Number of companies per GIC SubIndustry in Materials Sector\")\n",
    "plt.xlabel(\"Number of companies\")\n",
    "plt.ylabel(\"SubIndustry\")\n",
    "plt.show()\n",
    "\n",
    "# I got error message: AttributeError: module 'matplotlib' has no attribute 'title' \n",
    "# until I changed   import matplotlib as plt to import matplotlib.pyplot as plt"
   ]
  },
  {
   "cell_type": "code",
   "execution_count": null,
   "id": "637c8271",
   "metadata": {},
   "outputs": [],
   "source": []
  },
  {
   "cell_type": "code",
   "execution_count": 28,
   "id": "12d6922e",
   "metadata": {},
   "outputs": [
    {
     "data": {
      "image/png": "[encoded data removed]",
      "text/plain": [
       "<Figure size 432x288 with 1 Axes>"
      ]
     },
     "metadata": {
      "needs_background": "light"
     },
     "output_type": "display_data"
    }
   ],
   "source": [
    "# Plot a histogram of the company pulse data; histograms are a graphic representation of numerical data distribution\n",
    "\n",
    "data = df1.company_pulse  # save the company_pulse data in variable called \"data\"\n",
    "plt.hist(data, bins = 10, edgecolor='blue')\n",
    "\n",
    "plt.ylabel('Frequency')\n",
    "plt.xlabel(\"Company ESG rating\")\n",
    "plt.title(\"Frequency of ESG ratings for companies in Materials Sector\")\n",
    "plt.show()"
   ]
  },
  {
   "cell_type": "code",
   "execution_count": 29,
   "id": "ad557631",
   "metadata": {},
   "outputs": [
    {
     "data": {
      "text/plain": [
       "<seaborn.axisgrid.PairGrid at 0x19f667c1160>"
      ]
     },
     "execution_count": 29,
     "metadata": {},
     "output_type": "execute_result"
    },
    {
     "data": {
      "image/png": "[encoded data removed]",
      "text/plain": [
       "<Figure size 180x180 with 2 Axes>"
      ]
     },
     "metadata": {
      "needs_background": "light"
     },
     "output_type": "display_data"
    }
   ],
   "source": [
    "#sns.pairplot(df1)"
   ]
  },
  {
   "cell_type": "code",
   "execution_count": null,
   "id": "dd29d430",
   "metadata": {},
   "outputs": [],
   "source": []
  },
  {
   "cell_type": "code",
   "execution_count": 41,
   "id": "db75c864",
   "metadata": {},
   "outputs": [
    {
     "name": "stderr",
     "output_type": "stream",
     "text": [
      "C:\\Users\\Jenkir\\anaconda3\\envs\\py39USE\\lib\\site-packages\\seaborn\\categorical.py:640: FutureWarning: SeriesGroupBy.grouper is deprecated and will be removed in a future version of pandas.\n",
      "  positions = grouped.grouper.result_index.to_numpy(dtype=float)\n"
     ]
    },
    {
     "data": {
      "image/png": "[encoded data removed]",
      "text/plain": [
       "<Figure size 1088x360 with 1 Axes>"
      ]
     },
     "metadata": {
      "needs_background": "light"
     },
     "output_type": "display_data"
    }
   ],
   "source": [
    "# Check out the relationship between a categorical variable (GIC SubIndustry) and a numerical one (company pulse) using a boxplot\n",
    "\n",
    "sns.catplot(x='GIC_SubIndustry', y=\"company_pulse\", data=df1, kind=\"box\", aspect=3.0)\n",
    "plt.title(\"Boxplot for ESG ratings of GIC SubIndustries\")\n",
    "\n",
    "plt.show()\n",
    "\n",
    "# The limits of the boxes indicate the range of the CENTRAL 50% OF THE DATA, the central horizontal line marks the median, \n",
    "# the lines that extend from each box capture the range of the remaining data\n",
    "# any dots beyond the line edges show outliers\n"
   ]
  },
  {
   "cell_type": "code",
   "execution_count": 42,
   "id": "e56fddb6",
   "metadata": {},
   "outputs": [
    {
     "name": "stderr",
     "output_type": "stream",
     "text": [
      "C:\\Users\\Jenkir\\anaconda3\\envs\\py39USE\\lib\\site-packages\\seaborn\\categorical.py:640: FutureWarning: SeriesGroupBy.grouper is deprecated and will be removed in a future version of pandas.\n",
      "  positions = grouped.grouper.result_index.to_numpy(dtype=float)\n"
     ]
    },
    {
     "data": {
      "image/png": "[encoded data removed]",
      "text/plain": [
       "<Figure size 432x288 with 1 Axes>"
      ]
     },
     "metadata": {
      "needs_background": "light"
     },
     "output_type": "display_data"
    }
   ],
   "source": [
    "# Rotate the x axis labels and sort the boxplot by median\n",
    "grouped = df1.loc[:,[\"GIC_SubIndustry\", \"company_pulse\"]]\\\n",
    "    .groupby([\"GIC_SubIndustry\"])\\\n",
    "    .median()\\\n",
    "    .sort_values(by=\"company_pulse\")\n",
    "sns.boxplot(x=df1.GIC_SubIndustry, y=df1.company_pulse, order=grouped.index)\n",
    "\n",
    "plt.xticks(rotation=65, fontsize='large', ha='right')  # \"ha\" means horizontal alignment, if you don't use this, the labels won't be centered well\n",
    "\n",
    "#    fontweight='light'\n",
    "\n",
    "plt.show()"
   ]
  },
  {
   "cell_type": "code",
   "execution_count": null,
   "id": "d24b61eb",
   "metadata": {},
   "outputs": [],
   "source": []
  },
  {
   "cell_type": "code",
   "execution_count": null,
   "id": "2a40d693",
   "metadata": {},
   "outputs": [],
   "source": []
  }
 ],
 "metadata": {
  "kernelspec": {
   "display_name": "py39USE",
   "language": "python",
   "name": "py39use"
  },
  "language_info": {
   "codemirror_mode": {
    "name": "ipython",
    "version": 3
   },
   "file_extension": ".py",
   "mimetype": "text/x-python",
   "name": "python",
   "nbconvert_exporter": "python",
   "pygments_lexer": "ipython3",
   "version": "3.9.18"
  }
 },
 "nbformat": 4,
 "nbformat_minor": 5
}
